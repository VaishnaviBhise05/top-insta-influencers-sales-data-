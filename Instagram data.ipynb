{
 "cells": [
  {
   "cell_type": "code",
   "execution_count": 4,
   "id": "294ae6a0-e338-40a9-9020-f7153349c9e7",
   "metadata": {},
   "outputs": [],
   "source": [
    "import pandas as pd\n",
    "import matplotlib.pyplot as plt\n",
    "import seaborn as sns"
   ]
  },
  {
   "cell_type": "code",
   "execution_count": 15,
   "id": "58d6abed-976b-4810-81c0-8eeee953762d",
   "metadata": {},
   "outputs": [],
   "source": [
    "df = pd.read_csv('top_insta_influencers_data.csv')"
   ]
  },
  {
   "cell_type": "code",
   "execution_count": 17,
   "id": "528fd8eb-c1f2-49da-8e25-70b466b4ad43",
   "metadata": {},
   "outputs": [
    {
     "data": {
      "text/html": [
       "<div>\n",
       "<style scoped>\n",
       "    .dataframe tbody tr th:only-of-type {\n",
       "        vertical-align: middle;\n",
       "    }\n",
       "\n",
       "    .dataframe tbody tr th {\n",
       "        vertical-align: top;\n",
       "    }\n",
       "\n",
       "    .dataframe thead th {\n",
       "        text-align: right;\n",
       "    }\n",
       "</style>\n",
       "<table border=\"1\" class=\"dataframe\">\n",
       "  <thead>\n",
       "    <tr style=\"text-align: right;\">\n",
       "      <th></th>\n",
       "      <th>rank</th>\n",
       "      <th>channel_info</th>\n",
       "      <th>influence_score</th>\n",
       "      <th>posts</th>\n",
       "      <th>followers</th>\n",
       "      <th>avg_likes</th>\n",
       "      <th>60_day_eng_rate</th>\n",
       "      <th>new_post_avg_like</th>\n",
       "      <th>total_likes</th>\n",
       "      <th>country</th>\n",
       "    </tr>\n",
       "  </thead>\n",
       "  <tbody>\n",
       "    <tr>\n",
       "      <th>0</th>\n",
       "      <td>1</td>\n",
       "      <td>cristiano</td>\n",
       "      <td>92</td>\n",
       "      <td>3.3k</td>\n",
       "      <td>475.8m</td>\n",
       "      <td>8.7m</td>\n",
       "      <td>1.39%</td>\n",
       "      <td>6.5m</td>\n",
       "      <td>29.0b</td>\n",
       "      <td>Spain</td>\n",
       "    </tr>\n",
       "    <tr>\n",
       "      <th>1</th>\n",
       "      <td>2</td>\n",
       "      <td>kyliejenner</td>\n",
       "      <td>91</td>\n",
       "      <td>6.9k</td>\n",
       "      <td>366.2m</td>\n",
       "      <td>8.3m</td>\n",
       "      <td>1.62%</td>\n",
       "      <td>5.9m</td>\n",
       "      <td>57.4b</td>\n",
       "      <td>United States</td>\n",
       "    </tr>\n",
       "    <tr>\n",
       "      <th>2</th>\n",
       "      <td>3</td>\n",
       "      <td>leomessi</td>\n",
       "      <td>90</td>\n",
       "      <td>0.89k</td>\n",
       "      <td>357.3m</td>\n",
       "      <td>6.8m</td>\n",
       "      <td>1.24%</td>\n",
       "      <td>4.4m</td>\n",
       "      <td>6.0b</td>\n",
       "      <td>NaN</td>\n",
       "    </tr>\n",
       "    <tr>\n",
       "      <th>3</th>\n",
       "      <td>4</td>\n",
       "      <td>selenagomez</td>\n",
       "      <td>93</td>\n",
       "      <td>1.8k</td>\n",
       "      <td>342.7m</td>\n",
       "      <td>6.2m</td>\n",
       "      <td>0.97%</td>\n",
       "      <td>3.3m</td>\n",
       "      <td>11.5b</td>\n",
       "      <td>United States</td>\n",
       "    </tr>\n",
       "    <tr>\n",
       "      <th>4</th>\n",
       "      <td>5</td>\n",
       "      <td>therock</td>\n",
       "      <td>91</td>\n",
       "      <td>6.8k</td>\n",
       "      <td>334.1m</td>\n",
       "      <td>1.9m</td>\n",
       "      <td>0.20%</td>\n",
       "      <td>665.3k</td>\n",
       "      <td>12.5b</td>\n",
       "      <td>United States</td>\n",
       "    </tr>\n",
       "    <tr>\n",
       "      <th>...</th>\n",
       "      <td>...</td>\n",
       "      <td>...</td>\n",
       "      <td>...</td>\n",
       "      <td>...</td>\n",
       "      <td>...</td>\n",
       "      <td>...</td>\n",
       "      <td>...</td>\n",
       "      <td>...</td>\n",
       "      <td>...</td>\n",
       "      <td>...</td>\n",
       "    </tr>\n",
       "    <tr>\n",
       "      <th>195</th>\n",
       "      <td>196</td>\n",
       "      <td>iambeckyg</td>\n",
       "      <td>71</td>\n",
       "      <td>2.3k</td>\n",
       "      <td>33.2m</td>\n",
       "      <td>623.8k</td>\n",
       "      <td>1.40%</td>\n",
       "      <td>464.7k</td>\n",
       "      <td>1.4b</td>\n",
       "      <td>United States</td>\n",
       "    </tr>\n",
       "    <tr>\n",
       "      <th>196</th>\n",
       "      <td>197</td>\n",
       "      <td>nancyajram</td>\n",
       "      <td>81</td>\n",
       "      <td>3.8k</td>\n",
       "      <td>33.2m</td>\n",
       "      <td>390.4k</td>\n",
       "      <td>0.64%</td>\n",
       "      <td>208.0k</td>\n",
       "      <td>1.5b</td>\n",
       "      <td>France</td>\n",
       "    </tr>\n",
       "    <tr>\n",
       "      <th>197</th>\n",
       "      <td>198</td>\n",
       "      <td>luansantana</td>\n",
       "      <td>79</td>\n",
       "      <td>0.77k</td>\n",
       "      <td>33.2m</td>\n",
       "      <td>193.3k</td>\n",
       "      <td>0.26%</td>\n",
       "      <td>82.6k</td>\n",
       "      <td>149.2m</td>\n",
       "      <td>Brazil</td>\n",
       "    </tr>\n",
       "    <tr>\n",
       "      <th>198</th>\n",
       "      <td>199</td>\n",
       "      <td>nickjonas</td>\n",
       "      <td>78</td>\n",
       "      <td>2.3k</td>\n",
       "      <td>33.0m</td>\n",
       "      <td>719.6k</td>\n",
       "      <td>1.42%</td>\n",
       "      <td>467.7k</td>\n",
       "      <td>1.7b</td>\n",
       "      <td>United States</td>\n",
       "    </tr>\n",
       "    <tr>\n",
       "      <th>199</th>\n",
       "      <td>200</td>\n",
       "      <td>raisa6690</td>\n",
       "      <td>80</td>\n",
       "      <td>4.2k</td>\n",
       "      <td>32.8m</td>\n",
       "      <td>232.2k</td>\n",
       "      <td>0.30%</td>\n",
       "      <td>97.4k</td>\n",
       "      <td>969.1m</td>\n",
       "      <td>Indonesia</td>\n",
       "    </tr>\n",
       "  </tbody>\n",
       "</table>\n",
       "<p>200 rows × 10 columns</p>\n",
       "</div>"
      ],
      "text/plain": [
       "     rank channel_info  influence_score  posts followers avg_likes  \\\n",
       "0       1    cristiano               92   3.3k    475.8m      8.7m   \n",
       "1       2  kyliejenner               91   6.9k    366.2m      8.3m   \n",
       "2       3     leomessi               90  0.89k    357.3m      6.8m   \n",
       "3       4  selenagomez               93   1.8k    342.7m      6.2m   \n",
       "4       5      therock               91   6.8k    334.1m      1.9m   \n",
       "..    ...          ...              ...    ...       ...       ...   \n",
       "195   196    iambeckyg               71   2.3k     33.2m    623.8k   \n",
       "196   197   nancyajram               81   3.8k     33.2m    390.4k   \n",
       "197   198  luansantana               79  0.77k     33.2m    193.3k   \n",
       "198   199    nickjonas               78   2.3k     33.0m    719.6k   \n",
       "199   200    raisa6690               80   4.2k     32.8m    232.2k   \n",
       "\n",
       "    60_day_eng_rate new_post_avg_like total_likes        country  \n",
       "0             1.39%              6.5m       29.0b          Spain  \n",
       "1             1.62%              5.9m       57.4b  United States  \n",
       "2             1.24%              4.4m        6.0b            NaN  \n",
       "3             0.97%              3.3m       11.5b  United States  \n",
       "4             0.20%            665.3k       12.5b  United States  \n",
       "..              ...               ...         ...            ...  \n",
       "195           1.40%            464.7k        1.4b  United States  \n",
       "196           0.64%            208.0k        1.5b         France  \n",
       "197           0.26%             82.6k      149.2m         Brazil  \n",
       "198           1.42%            467.7k        1.7b  United States  \n",
       "199           0.30%             97.4k      969.1m      Indonesia  \n",
       "\n",
       "[200 rows x 10 columns]"
      ]
     },
     "execution_count": 17,
     "metadata": {},
     "output_type": "execute_result"
    }
   ],
   "source": [
    "df"
   ]
  },
  {
   "cell_type": "code",
   "execution_count": 19,
   "id": "719f671a-7e7a-4ee0-b794-213135e43f6a",
   "metadata": {},
   "outputs": [
    {
     "name": "stdout",
     "output_type": "stream",
     "text": [
      "   rank channel_info  influence_score  posts followers avg_likes  \\\n",
      "0     1    cristiano               92   3.3k    475.8m      8.7m   \n",
      "1     2  kyliejenner               91   6.9k    366.2m      8.3m   \n",
      "2     3     leomessi               90  0.89k    357.3m      6.8m   \n",
      "3     4  selenagomez               93   1.8k    342.7m      6.2m   \n",
      "4     5      therock               91   6.8k    334.1m      1.9m   \n",
      "\n",
      "  60_day_eng_rate new_post_avg_like total_likes        country  \n",
      "0           1.39%              6.5m       29.0b          Spain  \n",
      "1           1.62%              5.9m       57.4b  United States  \n",
      "2           1.24%              4.4m        6.0b            NaN  \n",
      "3           0.97%              3.3m       11.5b  United States  \n",
      "4           0.20%            665.3k       12.5b  United States  \n"
     ]
    }
   ],
   "source": [
    "print(df.head())"
   ]
  },
  {
   "cell_type": "code",
   "execution_count": 21,
   "id": "eff1bf25-f418-4756-b391-12f78488ac2a",
   "metadata": {},
   "outputs": [
    {
     "name": "stdout",
     "output_type": "stream",
     "text": [
      "Dataset Shape: (200, 10)\n"
     ]
    }
   ],
   "source": [
    "print(\"Dataset Shape:\", df.shape)"
   ]
  },
  {
   "cell_type": "code",
   "execution_count": 23,
   "id": "3627dd5a-2bd2-4ca8-9ee8-d2f6c3b213a4",
   "metadata": {},
   "outputs": [
    {
     "name": "stdout",
     "output_type": "stream",
     "text": [
      "<class 'pandas.core.frame.DataFrame'>\n",
      "RangeIndex: 200 entries, 0 to 199\n",
      "Data columns (total 10 columns):\n",
      " #   Column             Non-Null Count  Dtype \n",
      "---  ------             --------------  ----- \n",
      " 0   rank               200 non-null    int64 \n",
      " 1   channel_info       200 non-null    object\n",
      " 2   influence_score    200 non-null    int64 \n",
      " 3   posts              200 non-null    object\n",
      " 4   followers          200 non-null    object\n",
      " 5   avg_likes          200 non-null    object\n",
      " 6   60_day_eng_rate    200 non-null    object\n",
      " 7   new_post_avg_like  200 non-null    object\n",
      " 8   total_likes        200 non-null    object\n",
      " 9   country            138 non-null    object\n",
      "dtypes: int64(2), object(8)\n",
      "memory usage: 15.8+ KB\n",
      "\n",
      "Column Info:\n",
      " None\n"
     ]
    }
   ],
   "source": [
    "print(\"\\nColumn Info:\\n\", df.info())\n"
   ]
  },
  {
   "cell_type": "code",
   "execution_count": 25,
   "id": "43eaf172-8dad-4108-a86a-53d99832a475",
   "metadata": {},
   "outputs": [
    {
     "name": "stdout",
     "output_type": "stream",
     "text": [
      "\n",
      "Missing Values:\n",
      " rank                  0\n",
      "channel_info          0\n",
      "influence_score       0\n",
      "posts                 0\n",
      "followers             0\n",
      "avg_likes             0\n",
      "60_day_eng_rate       0\n",
      "new_post_avg_like     0\n",
      "total_likes           0\n",
      "country              62\n",
      "dtype: int64\n"
     ]
    }
   ],
   "source": [
    "print(\"\\nMissing Values:\\n\", df.isnull().sum())\n"
   ]
  },
  {
   "cell_type": "code",
   "execution_count": 27,
   "id": "29945f04-907c-465f-84a0-74d18b8f6434",
   "metadata": {},
   "outputs": [
    {
     "name": "stdout",
     "output_type": "stream",
     "text": [
      "\n",
      "Sample Data:\n",
      "    rank channel_info  influence_score  posts followers avg_likes  \\\n",
      "0     1    cristiano               92   3.3k    475.8m      8.7m   \n",
      "1     2  kyliejenner               91   6.9k    366.2m      8.3m   \n",
      "2     3     leomessi               90  0.89k    357.3m      6.8m   \n",
      "3     4  selenagomez               93   1.8k    342.7m      6.2m   \n",
      "4     5      therock               91   6.8k    334.1m      1.9m   \n",
      "\n",
      "  60_day_eng_rate new_post_avg_like total_likes        country  \n",
      "0           1.39%              6.5m       29.0b          Spain  \n",
      "1           1.62%              5.9m       57.4b  United States  \n",
      "2           1.24%              4.4m        6.0b            NaN  \n",
      "3           0.97%              3.3m       11.5b  United States  \n",
      "4           0.20%            665.3k       12.5b  United States  \n"
     ]
    }
   ],
   "source": [
    "print(\"\\nSample Data:\\n\", df.head())\n"
   ]
  },
  {
   "cell_type": "code",
   "execution_count": 29,
   "id": "2cc92911-8fc8-42eb-b15d-5bee9d470927",
   "metadata": {},
   "outputs": [
    {
     "name": "stdout",
     "output_type": "stream",
     "text": [
      "\n",
      "Statistical Summary:\n",
      "               rank channel_info  influence_score  posts followers avg_likes  \\\n",
      "count   200.000000          200       200.000000    200       200       200   \n",
      "unique         NaN          200              NaN     99       165       135   \n",
      "top            NaN    cristiano              NaN  10.0k     46.5m      1.1m   \n",
      "freq           NaN            1              NaN     13         3        13   \n",
      "mean    100.500000          NaN        81.820000    NaN       NaN       NaN   \n",
      "std      57.879185          NaN         8.878159    NaN       NaN       NaN   \n",
      "min       1.000000          NaN        22.000000    NaN       NaN       NaN   \n",
      "25%      50.750000          NaN        80.000000    NaN       NaN       NaN   \n",
      "50%     100.500000          NaN        84.000000    NaN       NaN       NaN   \n",
      "75%     150.250000          NaN        86.000000    NaN       NaN       NaN   \n",
      "max     200.000000          NaN        93.000000    NaN       NaN       NaN   \n",
      "\n",
      "       60_day_eng_rate new_post_avg_like total_likes        country  \n",
      "count              200               200         200            138  \n",
      "unique             147               162         116             25  \n",
      "top              0.02%                 0        1.5b  United States  \n",
      "freq                 5                 8           9             66  \n",
      "mean               NaN               NaN         NaN            NaN  \n",
      "std                NaN               NaN         NaN            NaN  \n",
      "min                NaN               NaN         NaN            NaN  \n",
      "25%                NaN               NaN         NaN            NaN  \n",
      "50%                NaN               NaN         NaN            NaN  \n",
      "75%                NaN               NaN         NaN            NaN  \n",
      "max                NaN               NaN         NaN            NaN  \n"
     ]
    }
   ],
   "source": [
    "print(\"\\nStatistical Summary:\\n\", df.describe(include='all'))"
   ]
  },
  {
   "cell_type": "code",
   "execution_count": 65,
   "id": "820d4c74-2bf6-449a-ad89-ef2994e2ddec",
   "metadata": {},
   "outputs": [
    {
     "data": {
      "image/png": "[encoded data removed]",
      "text/plain": [
       "<Figure size 800x500 with 1 Axes>"
      ]
     },
     "metadata": {},
     "output_type": "display_data"
    }
   ],
   "source": [
    "import seaborn as sns\n",
    "import matplotlib.pyplot as plt\n",
    "\n",
    "plt.figure(figsize=(8, 5))\n",
    "sns.histplot(df['followers'], bins=50, kde=True)\n",
    "plt.title(\"Distribution of Followers\")\n",
    "plt.xscale('log')  # Followers often follow a power law\n",
    "plt.show()\n",
    "\n"
   ]
  },
  {
   "cell_type": "code",
   "execution_count": 79,
   "id": "1ed92f47-2386-4570-a7b2-e8a6abdeee11",
   "metadata": {},
   "outputs": [
    {
     "name": "stdout",
     "output_type": "stream",
     "text": [
      "Top 10 countries by influencer count:\n",
      " country\n",
      "United States     66\n",
      "Brazil            13\n",
      "India             12\n",
      "Indonesia          7\n",
      "France             6\n",
      "Spain              5\n",
      "United Kingdom     4\n",
      "Colombia           3\n",
      "Canada             3\n",
      "Mexico             2\n",
      "Name: count, dtype: int64\n"
     ]
    },
    {
     "data": {
      "image/png": "[encoded data removed]",
      "text/plain": [
       "<Figure size 1000x500 with 1 Axes>"
      ]
     },
     "metadata": {},
     "output_type": "display_data"
    }
   ],
   "source": [
    "top_countries = df['country'].value_counts().head(10)\n",
    "print(\"Top 10 countries by influencer count:\\n\", top_countries)\n",
    "\n",
    "top_countries.plot(kind='bar', title='Top 10 Countries by Influencer Count', figsize=(10, 5))\n",
    "plt.ylabel(\"Number of Influencers\")\n",
    "plt.xlabel(\"Country\")\n",
    "plt.xticks(rotation=45)\n",
    "plt.tight_layout()\n",
    "plt.show()\n"
   ]
  },
  {
   "cell_type": "code",
   "execution_count": 99,
   "id": "9dff9090-f036-482a-a4af-48c808639e76",
   "metadata": {},
   "outputs": [
    {
     "name": "stdout",
     "output_type": "stream",
     "text": [
      "Exported cleaned dataset to CSV.\n"
     ]
    }
   ],
   "source": [
    "df.to_csv('cleaned_instagram_influencers.csv', index=False)\n",
    "print(\"Exported cleaned dataset to CSV.\")\n"
   ]
  },
  {
   "cell_type": "code",
   "execution_count": 111,
   "id": "a006eaf2-be65-4100-b1d2-f0e0110a8de2",
   "metadata": {},
   "outputs": [
    {
     "name": "stdout",
     "output_type": "stream",
     "text": [
      "Cleaned data saved to 'clean_influencers.csv'\n"
     ]
    }
   ],
   "source": [
    "df.to_csv('clean_influencers.csv', index=False)\n",
    "print(\"Cleaned data saved to 'clean_influencers.csv'\")\n"
   ]
  },
  {
   "cell_type": "code",
   "execution_count": null,
   "id": "2816eb4d-4258-476b-892a-30ed30b1d5e9",
   "metadata": {},
   "outputs": [],
   "source": []
  }
 ],
 "metadata": {
  "kernelspec": {
   "display_name": "Python 3 (ipykernel)",
   "language": "python",
   "name": "python3"
  },
  "language_info": {
   "codemirror_mode": {
    "name": "ipython",
    "version": 3
   },
   "file_extension": ".py",
   "mimetype": "text/x-python",
   "name": "python",
   "nbconvert_exporter": "python",
   "pygments_lexer": "ipython3",
   "version": "3.12.4"
  }
 },
 "nbformat": 4,
 "nbformat_minor": 5
}
